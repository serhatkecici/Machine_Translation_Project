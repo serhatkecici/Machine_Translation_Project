{
 "cells": [
  {
   "cell_type": "markdown",
   "metadata": {
    "collapsed": true
   },
   "source": [
    "# Artificial Intelligence Nanodegree\n",
    "## Machine Translation Project\n",
    "In this notebook, sections that end with **'(IMPLEMENTATION)'** in the header indicate that the following blocks of code will require additional functionality which you must provide. Please be sure to read the instructions carefully!\n",
    "\n",
    "## Introduction\n",
    "In this notebook, you will build a deep neural network that functions as part of an end-to-end machine translation pipeline. Your completed pipeline will accept English text as input and return the French translation.\n",
    "\n",
    "- **Preprocess** - You'll convert text to sequence of integers.\n",
    "- **Models** Create models which accepts a sequence of integers as input and returns a probability distribution over possible translations. After learning about the basic types of neural networks that are often used for machine translation, you will engage in your own investigations, to design your own model!\n",
    "- **Prediction** Run the model on English text."
   ]
  },
  {
   "cell_type": "code",
   "execution_count": 1,
   "metadata": {},
   "outputs": [],
   "source": [
    "%load_ext autoreload\n",
    "%aimport helper, tests\n",
    "%autoreload 1"
   ]
  },
  {
   "cell_type": "code",
   "execution_count": 17,
   "metadata": {},
   "outputs": [],
   "source": [
    "import collections\n",
    "\n",
    "import helper\n",
    "import numpy as np\n",
    "import project_tests as tests\n",
    "\n",
    "from keras.preprocessing.text import Tokenizer\n",
    "from keras.preprocessing.sequence import pad_sequences\n",
    "from keras.models import Model\n",
    "from keras.layers import GRU, Input, Dense, TimeDistributed, Activation, RepeatVector, Bidirectional\n",
    "from keras.layers.embeddings import Embedding\n",
    "from keras.optimizers import Adam\n",
    "from keras.losses import sparse_categorical_crossentropy\n",
    "from keras.models import Sequential\n",
    "from keras.layers import Activation"
   ]
  },
  {
   "cell_type": "markdown",
   "metadata": {},
   "source": [
    "### Verify access to the GPU\n",
    "The following test applies only if you expect to be using a GPU, e.g., while running in a Udacity Workspace or using an AWS instance with GPU support. Run the next cell, and verify that the device_type is \"GPU\".\n",
    "- If the device is not GPU & you are running from a Udacity Workspace, then save your workspace with the icon at the top, then click \"enable\" at the bottom of the workspace.\n",
    "- If the device is not GPU & you are running from an AWS instance, then refer to the cloud computing instructions in the classroom to verify your setup steps."
   ]
  },
  {
   "cell_type": "code",
   "execution_count": 45,
   "metadata": {},
   "outputs": [
    {
     "name": "stdout",
     "output_type": "stream",
     "text": [
      "[name: \"/cpu:0\"\n",
      "device_type: \"CPU\"\n",
      "memory_limit: 268435456\n",
      "locality {\n",
      "}\n",
      "incarnation: 1759622788318959667\n",
      ", name: \"/gpu:0\"\n",
      "device_type: \"GPU\"\n",
      "memory_limit: 312213504\n",
      "locality {\n",
      "  bus_id: 1\n",
      "}\n",
      "incarnation: 2143228179873907666\n",
      "physical_device_desc: \"device: 0, name: Tesla K80, pci bus id: 0000:00:04.0\"\n",
      "]\n"
     ]
    }
   ],
   "source": [
    "from tensorflow.python.client import device_lib\n",
    "print(device_lib.list_local_devices())"
   ]
  },
  {
   "cell_type": "markdown",
   "metadata": {},
   "source": [
    "## Dataset\n",
    "We begin by investigating the dataset that will be used to train and evaluate your pipeline.  The most common datasets used for machine translation are from [WMT](http://www.statmt.org/).  However, that will take a long time to train a neural network on.  We'll be using a dataset we created for this project that contains a small vocabulary.  You'll be able to train your model in a reasonable time with this dataset.\n",
    "### Load Data\n",
    "The data is located in `data/small_vocab_en` and `data/small_vocab_fr`. The `small_vocab_en` file contains English sentences with their French translations in the `small_vocab_fr` file. Load the English and French data from these files from running the cell below."
   ]
  },
  {
   "cell_type": "code",
   "execution_count": 4,
   "metadata": {},
   "outputs": [
    {
     "name": "stdout",
     "output_type": "stream",
     "text": [
      "Dataset Loaded\n"
     ]
    }
   ],
   "source": [
    "# Load English data\n",
    "english_sentences = helper.load_data('data/small_vocab_en')\n",
    "# Load French data\n",
    "french_sentences = helper.load_data('data/small_vocab_fr')\n",
    "\n",
    "print('Dataset Loaded')"
   ]
  },
  {
   "cell_type": "markdown",
   "metadata": {},
   "source": [
    "### Files\n",
    "Each line in `small_vocab_en` contains an English sentence with the respective translation in each line of `small_vocab_fr`.  View the first two lines from each file."
   ]
  },
  {
   "cell_type": "code",
   "execution_count": 5,
   "metadata": {},
   "outputs": [
    {
     "name": "stdout",
     "output_type": "stream",
     "text": [
      "small_vocab_en Line 1:  new jersey is sometimes quiet during autumn , and it is snowy in april .\n",
      "small_vocab_fr Line 1:  new jersey est parfois calme pendant l' automne , et il est neigeux en avril .\n",
      "small_vocab_en Line 2:  the united states is usually chilly during july , and it is usually freezing in november .\n",
      "small_vocab_fr Line 2:  les états-unis est généralement froid en juillet , et il gèle habituellement en novembre .\n"
     ]
    }
   ],
   "source": [
    "for sample_i in range(2):\n",
    "    print('small_vocab_en Line {}:  {}'.format(sample_i + 1, english_sentences[sample_i]))\n",
    "    print('small_vocab_fr Line {}:  {}'.format(sample_i + 1, french_sentences[sample_i]))"
   ]
  },
  {
   "cell_type": "markdown",
   "metadata": {},
   "source": [
    "From looking at the sentences, you can see they have been preprocessed already.  The puncuations have been delimited using spaces. All the text have been converted to lowercase.  This should save you some time, but the text requires more preprocessing.\n",
    "### Vocabulary\n",
    "The complexity of the problem is determined by the complexity of the vocabulary.  A more complex vocabulary is a more complex problem.  Let's look at the complexity of the dataset we'll be working with."
   ]
  },
  {
   "cell_type": "code",
   "execution_count": 6,
   "metadata": {},
   "outputs": [
    {
     "name": "stdout",
     "output_type": "stream",
     "text": [
      "1823250 English words.\n",
      "227 unique English words.\n",
      "10 Most common words in the English dataset:\n",
      "\"is\" \",\" \".\" \"in\" \"it\" \"during\" \"the\" \"but\" \"and\" \"sometimes\"\n",
      "\n",
      "1961295 French words.\n",
      "355 unique French words.\n",
      "10 Most common words in the French dataset:\n",
      "\"est\" \".\" \",\" \"en\" \"il\" \"les\" \"mais\" \"et\" \"la\" \"parfois\"\n"
     ]
    }
   ],
   "source": [
    "english_words_counter = collections.Counter([word for sentence in english_sentences for word in sentence.split()])\n",
    "french_words_counter = collections.Counter([word for sentence in french_sentences for word in sentence.split()])\n",
    "\n",
    "print('{} English words.'.format(len([word for sentence in english_sentences for word in sentence.split()])))\n",
    "print('{} unique English words.'.format(len(english_words_counter)))\n",
    "print('10 Most common words in the English dataset:')\n",
    "print('\"' + '\" \"'.join(list(zip(*english_words_counter.most_common(10)))[0]) + '\"')\n",
    "print()\n",
    "print('{} French words.'.format(len([word for sentence in french_sentences for word in sentence.split()])))\n",
    "print('{} unique French words.'.format(len(french_words_counter)))\n",
    "print('10 Most common words in the French dataset:')\n",
    "print('\"' + '\" \"'.join(list(zip(*french_words_counter.most_common(10)))[0]) + '\"')"
   ]
  },
  {
   "cell_type": "markdown",
   "metadata": {},
   "source": [
    "For comparison, _Alice's Adventures in Wonderland_ contains 2,766 unique words of a total of 15,500 words.\n",
    "## Preprocess\n",
    "For this project, you won't use text data as input to your model. Instead, you'll convert the text into sequences of integers using the following preprocess methods:\n",
    "1. Tokenize the words into ids\n",
    "2. Add padding to make all the sequences the same length.\n",
    "\n",
    "Time to start preprocessing the data...\n",
    "### Tokenize (IMPLEMENTATION)\n",
    "For a neural network to predict on text data, it first has to be turned into data it can understand. Text data like \"dog\" is a sequence of ASCII character encodings.  Since a neural network is a series of multiplication and addition operations, the input data needs to be number(s).\n",
    "\n",
    "We can turn each character into a number or each word into a number.  These are called character and word ids, respectively.  Character ids are used for character level models that generate text predictions for each character.  A word level model uses word ids that generate text predictions for each word.  Word level models tend to learn better, since they are lower in complexity, so we'll use those.\n",
    "\n",
    "Turn each sentence into a sequence of words ids using Keras's [`Tokenizer`](https://keras.io/preprocessing/text/#tokenizer) function. Use this function to tokenize `english_sentences` and `french_sentences` in the cell below.\n",
    "\n",
    "Running the cell will run `tokenize` on sample data and show output for debugging."
   ]
  },
  {
   "cell_type": "code",
   "execution_count": 7,
   "metadata": {},
   "outputs": [
    {
     "name": "stdout",
     "output_type": "stream",
     "text": [
      "{'.': 1, 'the': 2, 'quick': 3, 'a': 4, 'brown': 5, 'fox': 6, 'jumps': 7, 'over': 8, 'lazy': 9, 'dog': 10, 'by': 11, 'jove': 12, ',': 13, 'my': 14, 'study': 15, 'of': 16, 'lexicography': 17, 'won': 18, 'prize': 19, 'this': 20, 'is': 21, 'short': 22, 'sentence': 23}\n",
      "\n",
      "Sequence 1 in x\n",
      "  Input:  The quick brown fox jumps over the lazy dog .\n",
      "  Output: [2, 3, 5, 6, 7, 8, 2, 9, 10, 1]\n",
      "Sequence 2 in x\n",
      "  Input:  By Jove , my quick study of lexicography won a prize .\n",
      "  Output: [11, 12, 13, 14, 3, 15, 16, 17, 18, 4, 19, 1]\n",
      "Sequence 3 in x\n",
      "  Input:  This is a short sentence .\n",
      "  Output: [20, 21, 4, 22, 23, 1]\n"
     ]
    }
   ],
   "source": [
    "def tokenize(x):\n",
    "    \"\"\"\n",
    "    Tokenize x\n",
    "    :param x: List of sentences/strings to be tokenized\n",
    "    :return: Tuple of (tokenized x data, tokenizer used to tokenize x)\n",
    "    \"\"\"\n",
    "    # TODO: Implement\n",
    "    # I observe that '?.,' punctuations exist both in the eng and fr dataset. \n",
    "    # Here I removed '?.,' from the filters therefore my model will take those punctuations as a word and will try to place them while making a translation. \n",
    "    # I am aware that this will bring additional complexity to the model but I want to test if my model can handle that and will try to keep the error rates within acceptable limits.\n",
    "    my_tokenizer = Tokenizer(filters='!\"#$%&()*+-/:;<=>@[\\]^_`{|}~')\n",
    "    my_tokenizer.fit_on_texts(x)\n",
    "    x_token = my_tokenizer.texts_to_sequences(x)\n",
    "\n",
    "    return x_token, my_tokenizer\n",
    "\n",
    "tests.test_tokenize(tokenize)\n",
    "\n",
    "# Tokenize Example output\n",
    "text_sentences = [\n",
    "    'The quick brown fox jumps over the lazy dog .',\n",
    "    'By Jove , my quick study of lexicography won a prize .',\n",
    "    'This is a short sentence .']\n",
    "text_tokenized, text_tokenizer = tokenize(text_sentences)\n",
    "print(text_tokenizer.word_index)\n",
    "print()\n",
    "for sample_i, (sent, token_sent) in enumerate(zip(text_sentences, text_tokenized)):\n",
    "    print('Sequence {} in x'.format(sample_i + 1))\n",
    "    print('  Input:  {}'.format(sent))\n",
    "    print('  Output: {}'.format(token_sent))"
   ]
  },
  {
   "cell_type": "markdown",
   "metadata": {},
   "source": [
    "### Padding (IMPLEMENTATION)\n",
    "When batching the sequence of word ids together, each sequence needs to be the same length.  Since sentences are dynamic in length, we can add padding to the end of the sequences to make them the same length.\n",
    "\n",
    "Make sure all the English sequences have the same length and all the French sequences have the same length by adding padding to the **end** of each sequence using Keras's [`pad_sequences`](https://keras.io/preprocessing/sequence/#pad_sequences) function."
   ]
  },
  {
   "cell_type": "code",
   "execution_count": 8,
   "metadata": {},
   "outputs": [
    {
     "name": "stdout",
     "output_type": "stream",
     "text": [
      "Sequence 1 in x\n",
      "  Input:  [ 2  3  5  6  7  8  2  9 10  1]\n",
      "  Output: [ 2  3  5  6  7  8  2  9 10  1  0  0]\n",
      "Sequence 2 in x\n",
      "  Input:  [11 12 13 14  3 15 16 17 18  4 19  1]\n",
      "  Output: [11 12 13 14  3 15 16 17 18  4 19  1]\n",
      "Sequence 3 in x\n",
      "  Input:  [20 21  4 22 23  1]\n",
      "  Output: [20 21  4 22 23  1  0  0  0  0  0  0]\n"
     ]
    }
   ],
   "source": [
    "def pad(x, length=None):\n",
    "    \"\"\"\n",
    "    Pad x\n",
    "    :param x: List of sequences.\n",
    "    :param length: Length to pad the sequence to.  If None, use length of longest sequence in x.\n",
    "    :return: Padded numpy array of sequences\n",
    "    \"\"\"\n",
    "    # TODO: Implement\n",
    "    my_padding = pad_sequences(x, maxlen=length,padding='post')\n",
    "    return my_padding\n",
    "\n",
    "tests.test_pad(pad)\n",
    "\n",
    "# Pad Tokenized output\n",
    "test_pad = pad(text_tokenized)\n",
    "for sample_i, (token_sent, pad_sent) in enumerate(zip(text_tokenized, test_pad)):\n",
    "    print('Sequence {} in x'.format(sample_i + 1))\n",
    "    print('  Input:  {}'.format(np.array(token_sent)))\n",
    "    print('  Output: {}'.format(pad_sent))"
   ]
  },
  {
   "cell_type": "markdown",
   "metadata": {},
   "source": [
    "# Extra Work : Punctuations and Further Data Cleaning\n",
    "\n",
    "# Punctuations\n",
    "\n",
    "I observe that '?.,' punctuations exist both in the english and french dataset. \n",
    "I intentionally leave them in the input and target data and considered each punctuation as a word. I am aware that this will  bring additional complexity to the model but I strongly curious if my model can handle punctuations while translating.\n",
    "\n",
    "\n",
    "# Further Data Cleaning\n",
    "Before running the automated preprocess I investigated both data and found the following improvement areas in order to get cleaner data for modelling.  With these corrections unique number of words decreased from 227 to 202 in English, 355 to 331 in French without loosing any information in the data. I expect these corrections to improve my modelling accuracy. \n",
    "\n",
    "    Observations to be corrected in French Data:\n",
    "    1. \"États\", \"états\" and \"etats\" exist seperately(mistype and lower case mistake). I made them both \"états\".\n",
    "    2. à and a both exist as words.(mistype) They are the same word. We replaced them all to à\n",
    "    3. \"aimé.\" vs \"aimé\" and \"préféré.\" vs \"préféré\" exist as distinct words.(space delimitation mistake) replaced them with \"aimé .\" and \"préféré .\" \n",
    "    4. Both \"rouillé\" and \"rouille\" exist as distinct words.(mistype) Replace them with \"rouillé\"\n",
    "    5. Both \"californie\" and \"california\" exist.(mistype) We replace them both with californie\n",
    "    6. My limited french knowledge tells me that it is wise to define \"l'\", \"n'\", and \"j'\" as seperate words. Because all these are seperate words and appear as \"l'animal\" only if the following word start with a vowel. I replaced \"l'animal\" with \"l' animal\" so that  \"l'animal\" and \"animal\" are not distinct words in the data. Done the same thing for all l', n' and j' occurences\n",
    "\n",
    "    Observations to be corrected in English Data:\n",
    "    1. there is space delimitation mistakes before periods '.' widely. Corrected them. \n",
    "\n",
    "I implemented these corrections below as eng_corrections() and fr_corrections() functions and inserted these functions to the preprocess pipeline."
   ]
  },
  {
   "cell_type": "code",
   "execution_count": 9,
   "metadata": {},
   "outputs": [],
   "source": [
    "def eng_corrections(x):\n",
    "    \n",
    "    x = [i.replace('.', ' .') for i in x]\n",
    "    x = [i.replace('  .', ' .') for i in x] #Remove double spaces\n",
    "    \n",
    "    return x\n",
    "\n",
    "def fr_corrections(y):\n",
    "    #correction 1\n",
    "    y= [j.replace('É', 'é') for j in y]\n",
    "    y= [j.replace('etats', 'états') for j in y]\n",
    "    \n",
    "    #correction 2\n",
    "    y= [j.replace(' a ', ' à ') for j in y]\n",
    "   \n",
    "    #correction 3\n",
    "    y= [j.replace('.', ' .') for j in y]\n",
    "    y= [j.replace('  .', ' .') for j in y] #Remove double spaces\n",
    "    \n",
    "    #correction 4\n",
    "    y= [j.replace('rouille', 'rouillé') for j in y]\n",
    "    \n",
    "    #correction 5\n",
    "    y= [j.replace('california', 'californie') for j in y]\n",
    "    \n",
    "    #correction 6\n",
    "    y= [j.replace('l\\'', 'l\\' ') for j in y]\n",
    "    y= [j.replace('n\\'', 'n\\' ') for j in y]\n",
    "    y= [j.replace('j\\'', 'j\\' ') for j in y]\n",
    "\n",
    "    y= [j.replace('l\\'  ', 'l\\' ') for j in y] #Remove double spaces\n",
    "    y= [j.replace('n\\'  ', 'n\\' ') for j in y]\n",
    "    y= [j.replace('j\\'  ', 'j\\' ') for j in y]\n",
    "    \n",
    "    return y"
   ]
  },
  {
   "cell_type": "markdown",
   "metadata": {},
   "source": [
    "### Preprocess Pipeline\n",
    "Your focus for this project is to build neural network architecture, so we won't ask you to create a preprocess pipeline.  Instead, we've provided you with the implementation of the `preprocess` function."
   ]
  },
  {
   "cell_type": "code",
   "execution_count": 10,
   "metadata": {},
   "outputs": [
    {
     "name": "stdout",
     "output_type": "stream",
     "text": [
      "Data Preprocessed\n",
      "Max English sentence length: 17\n",
      "Max French sentence length: 23\n",
      "English vocabulary size: 202\n",
      "French vocabulary size: 331\n"
     ]
    }
   ],
   "source": [
    "def preprocess(x, y):\n",
    "    \"\"\"\n",
    "    Preprocess x and y\n",
    "    :param x: Feature List of sentences\n",
    "    :param y: Label List of sentences\n",
    "    :return: Tuple of (Preprocessed x, Preprocessed y, x tokenizer, y tokenizer)\n",
    "    \"\"\"\n",
    "    preprocess_x = eng_corrections(x)\n",
    "    preprocess_y = fr_corrections(y)\n",
    "    \n",
    "    preprocess_x, x_tk = tokenize(preprocess_x)\n",
    "    preprocess_y, y_tk = tokenize(preprocess_y)\n",
    "\n",
    "    preprocess_x = pad(preprocess_x)\n",
    "    preprocess_y = pad(preprocess_y)\n",
    "\n",
    "    # Keras's sparse_categorical_crossentropy function requires the labels to be in 3 dimensions\n",
    "    preprocess_y = preprocess_y.reshape(*preprocess_y.shape, 1)\n",
    "\n",
    "    return preprocess_x, preprocess_y, x_tk, y_tk\n",
    "\n",
    "preproc_english_sentences, preproc_french_sentences, english_tokenizer, french_tokenizer =\\\n",
    "    preprocess(english_sentences, french_sentences)\n",
    "    \n",
    "max_english_sequence_length = preproc_english_sentences.shape[1]\n",
    "max_french_sequence_length = preproc_french_sentences.shape[1]\n",
    "english_vocab_size = len(english_tokenizer.word_index)\n",
    "french_vocab_size = len(french_tokenizer.word_index)\n",
    "\n",
    "print('Data Preprocessed')\n",
    "print(\"Max English sentence length:\", max_english_sequence_length)\n",
    "print(\"Max French sentence length:\", max_french_sequence_length)\n",
    "print(\"English vocabulary size:\", english_vocab_size)\n",
    "print(\"French vocabulary size:\", french_vocab_size)"
   ]
  },
  {
   "cell_type": "markdown",
   "metadata": {},
   "source": [
    "## Models\n",
    "In this section, you will experiment with various neural network architectures.\n",
    "You will begin by training four relatively simple architectures.\n",
    "- Model 1 is a simple RNN\n",
    "- Model 2 is a RNN with Embedding\n",
    "- Model 3 is a Bidirectional RNN\n",
    "- Model 4 is an optional Encoder-Decoder RNN\n",
    "\n",
    "After experimenting with the four simple architectures, you will construct a deeper architecture that is designed to outperform all four models.\n",
    "### Ids Back to Text\n",
    "The neural network will be translating the input to words ids, which isn't the final form we want.  We want the French translation.  The function `logits_to_text` will bridge the gab between the logits from the neural network to the French translation.  You'll be using this function to better understand the output of the neural network."
   ]
  },
  {
   "cell_type": "code",
   "execution_count": 11,
   "metadata": {},
   "outputs": [
    {
     "name": "stdout",
     "output_type": "stream",
     "text": [
      "`logits_to_text` function loaded.\n"
     ]
    }
   ],
   "source": [
    "def logits_to_text(logits, tokenizer):\n",
    "    \"\"\"\n",
    "    Turn logits from a neural network into text using the tokenizer\n",
    "    :param logits: Logits from a neural network\n",
    "    :param tokenizer: Keras Tokenizer fit on the labels\n",
    "    :return: String that represents the text of the logits\n",
    "    \"\"\"\n",
    "    index_to_words = {id: word for word, id in tokenizer.word_index.items()}\n",
    "    index_to_words[0] = '<PAD>'\n",
    "\n",
    "    return ' '.join([index_to_words[prediction] for prediction in np.argmax(logits, 1)])\n",
    "\n",
    "print('`logits_to_text` function loaded.')"
   ]
  },
  {
   "cell_type": "markdown",
   "metadata": {},
   "source": [
    "### Model 1: RNN (IMPLEMENTATION)\n",
    "![RNN](images/rnn.png)\n",
    "A basic RNN model is a good baseline for sequence data.  In this model, you'll build a RNN that translates English to French."
   ]
  },
  {
   "cell_type": "code",
   "execution_count": 52,
   "metadata": {},
   "outputs": [
    {
     "name": "stdout",
     "output_type": "stream",
     "text": [
      "Train on 110288 samples, validate on 27573 samples\n",
      "Epoch 1/10\n",
      "110288/110288 [==============================] - 11s 101us/step - loss: 2.2348 - acc: 0.4818 - val_loss: 1.6366 - val_acc: 0.5610\n",
      "Epoch 2/10\n",
      "110288/110288 [==============================] - 9s 84us/step - loss: 1.4800 - acc: 0.5842 - val_loss: 1.3900 - val_acc: 0.6002\n",
      "Epoch 3/10\n",
      "110288/110288 [==============================] - 9s 84us/step - loss: 1.3379 - acc: 0.6055 - val_loss: 1.2854 - val_acc: 0.6180\n",
      "Epoch 4/10\n",
      "110288/110288 [==============================] - 9s 84us/step - loss: 1.2554 - acc: 0.6202 - val_loss: 1.2232 - val_acc: 0.6312\n",
      "Epoch 5/10\n",
      "110288/110288 [==============================] - 9s 85us/step - loss: 1.1954 - acc: 0.6333 - val_loss: 1.1703 - val_acc: 0.6395\n",
      "Epoch 6/10\n",
      "110288/110288 [==============================] - 9s 84us/step - loss: 1.1498 - acc: 0.6447 - val_loss: 1.1450 - val_acc: 0.6460\n",
      "Epoch 7/10\n",
      "110288/110288 [==============================] - 9s 85us/step - loss: 1.1102 - acc: 0.6533 - val_loss: 1.0946 - val_acc: 0.6588\n",
      "Epoch 8/10\n",
      "110288/110288 [==============================] - 9s 85us/step - loss: 1.0863 - acc: 0.6574 - val_loss: 1.0854 - val_acc: 0.6596\n",
      "Epoch 9/10\n",
      "110288/110288 [==============================] - 9s 85us/step - loss: 1.0597 - acc: 0.6643 - val_loss: 1.0475 - val_acc: 0.6671\n",
      "Epoch 10/10\n",
      "110288/110288 [==============================] - 9s 85us/step - loss: 1.0420 - acc: 0.6657 - val_loss: 1.0271 - val_acc: 0.6684\n",
      "new jersey est parfois humide en l' de et il est est en en . <PAD> <PAD> <PAD> <PAD> <PAD> <PAD> <PAD> <PAD>\n"
     ]
    }
   ],
   "source": [
    "\n",
    "from keras.models import Sequential\n",
    "from keras.layers import Activation\n",
    "\n",
    "def simple_model(input_shape, output_sequence_length, english_vocab_size, french_vocab_size):\n",
    "    \"\"\"\n",
    "    Build and train a basic RNN on x and y\n",
    "    :param input_shape: Tuple of input shape\n",
    "    :param output_sequence_length: Length of output sequence\n",
    "    :param english_vocab_size: Number of unique English words in the dataset\n",
    "    :param french_vocab_size: Number of unique French words in the dataset\n",
    "    :return: Keras model built, but not trained\n",
    "    \"\"\"\n",
    "    # TODO: Build the layers\n",
    "\n",
    "    learning_rate = 0.01\n",
    "    model = Sequential()\n",
    "    model.add(GRU(output_sequence_length, input_shape = input_shape[1:], return_sequences=True))\n",
    "    model.add(Dense(500, activation=\"relu\"))\n",
    "    model.add(Dense(french_vocab_size, activation=\"softmax\"))\n",
    "  \n",
    "    \n",
    "    model.compile(loss=sparse_categorical_crossentropy,\n",
    "                  optimizer=Adam(learning_rate),\n",
    "                  metrics=['accuracy'])\n",
    "    return model\n",
    "tests.test_simple_model(simple_model)\n",
    "\n",
    "# Reshaping the input to work with a basic RNN\n",
    "tmp_x = pad(preproc_english_sentences, max_french_sequence_length)\n",
    "tmp_x = tmp_x.reshape((-1, preproc_french_sentences.shape[-2], 1))\n",
    "\n",
    "# Train the neural network\n",
    "simple_rnn_model = simple_model(\n",
    "    tmp_x.shape,\n",
    "    max_french_sequence_length,\n",
    "    english_vocab_size+1,\n",
    "    french_vocab_size+1)\n",
    "#plus one for the padding character\n",
    "simple_rnn_model.fit(tmp_x, preproc_french_sentences, batch_size=1024, epochs=10, validation_split=0.2)\n",
    "\n",
    "# Print prediction(s)\n",
    "print(logits_to_text(simple_rnn_model.predict(tmp_x[:1])[0], french_tokenizer))\n",
    "\n"
   ]
  },
  {
   "cell_type": "markdown",
   "metadata": {},
   "source": [
    "### Model 2: Embedding (IMPLEMENTATION)\n",
    "![RNN](images/embedding.png)\n",
    "You've turned the words into ids, but there's a better representation of a word.  This is called word embeddings.  An embedding is a vector representation of the word that is close to similar words in n-dimensional space, where the n represents the size of the embedding vectors.\n",
    "\n",
    "In this model, you'll create a RNN model using embedding."
   ]
  },
  {
   "cell_type": "code",
   "execution_count": 21,
   "metadata": {},
   "outputs": [
    {
     "name": "stdout",
     "output_type": "stream",
     "text": [
      "Train on 110288 samples, validate on 27573 samples\n",
      "Epoch 1/10\n",
      "110288/110288 [==============================] - 11s 103us/step - loss: 1.5153 - acc: 0.6257 - val_loss: 0.6925 - val_acc: 0.7717\n",
      "Epoch 2/10\n",
      "110288/110288 [==============================] - 10s 92us/step - loss: 0.5517 - acc: 0.8232 - val_loss: 0.4731 - val_acc: 0.8453\n",
      "Epoch 3/10\n",
      "110288/110288 [==============================] - 10s 92us/step - loss: 0.4363 - acc: 0.8574 - val_loss: 0.4132 - val_acc: 0.8624\n",
      "Epoch 4/10\n",
      "110288/110288 [==============================] - 10s 92us/step - loss: 0.3795 - acc: 0.8753 - val_loss: 0.3562 - val_acc: 0.8838\n",
      "Epoch 5/10\n",
      "110288/110288 [==============================] - 10s 92us/step - loss: 0.3462 - acc: 0.8860 - val_loss: 0.3312 - val_acc: 0.8922\n",
      "Epoch 6/10\n",
      "110288/110288 [==============================] - 10s 93us/step - loss: 0.3215 - acc: 0.8944 - val_loss: 0.3180 - val_acc: 0.8944\n",
      "Epoch 7/10\n",
      "110288/110288 [==============================] - 10s 93us/step - loss: 0.3058 - acc: 0.8992 - val_loss: 0.2990 - val_acc: 0.9015\n",
      "Epoch 8/10\n",
      "110288/110288 [==============================] - 10s 93us/step - loss: 0.2903 - acc: 0.9046 - val_loss: 0.2920 - val_acc: 0.9048\n",
      "Epoch 9/10\n",
      "110288/110288 [==============================] - 10s 93us/step - loss: 0.2805 - acc: 0.9079 - val_loss: 0.2792 - val_acc: 0.9091\n",
      "Epoch 10/10\n",
      "110288/110288 [==============================] - 10s 93us/step - loss: 0.2722 - acc: 0.9103 - val_loss: 0.2709 - val_acc: 0.9127\n",
      "new jersey est parfois calme en l' automne , et il est neigeux en avril . <PAD> <PAD> <PAD> <PAD> <PAD> <PAD> <PAD>\n"
     ]
    }
   ],
   "source": [
    "\n",
    "def embed_model(input_shape, output_sequence_length, english_vocab_size, french_vocab_size):\n",
    "    \"\"\"\n",
    "    Build and train a RNN model using word embedding on x and y\n",
    "    :param input_shape: Tuple of input shape\n",
    "    :param output_sequence_length: Length of output sequence\n",
    "    :param english_vocab_size: Number of unique English words in the dataset\n",
    "    :param french_vocab_size: Number of unique French words in the dataset\n",
    "    :return: Keras model built, but not trained\n",
    "    \"\"\"\n",
    "    learning_rate = 0.01\n",
    "    model = Sequential()\n",
    "    model.add(Embedding(english_vocab_size, 64, input_length=output_sequence_length,mask_zero = False))\n",
    "    model.add(GRU(output_sequence_length, return_sequences=True))\n",
    "    model.add(Dense(500, activation=\"relu\"))\n",
    "    model.add(Dense(french_vocab_size, activation=\"softmax\"))\n",
    "  \n",
    "    \n",
    "    model.compile(loss=sparse_categorical_crossentropy,\n",
    "            optimizer=Adam(learning_rate),\n",
    "            metrics=['accuracy'])\n",
    "    return model\n",
    "\n",
    "\n",
    "tests.test_embed_model(embed_model)\n",
    "\n",
    "\n",
    "# TODO: Reshape the input\n",
    "tmp_x = pad(preproc_english_sentences, preproc_french_sentences.shape[1])\n",
    "tmp_x = tmp_x.reshape((-1, preproc_french_sentences.shape[-2]))\n",
    "\n",
    "# TODO: Train the neural network\n",
    "embed_rnn_model = embed_model(\n",
    "    tmp_x.shape,\n",
    "    max_french_sequence_length,\n",
    "    english_vocab_size+1,\n",
    "    french_vocab_size+1)\n",
    "#plus one for the padding character\n",
    "embed_rnn_model.fit(tmp_x, preproc_french_sentences, batch_size=1024, epochs=10, validation_split=0.2)\n",
    "\n",
    "\n",
    "# TODO: Print prediction(s)\n",
    "print(logits_to_text(embed_rnn_model.predict(tmp_x[:1])[0], french_tokenizer))\n",
    "\n"
   ]
  },
  {
   "cell_type": "markdown",
   "metadata": {},
   "source": [
    "### Model 3: Bidirectional RNNs (IMPLEMENTATION)\n",
    "![RNN](images/bidirectional.png)\n",
    "One restriction of a RNN is that it can't see the future input, only the past.  This is where bidirectional recurrent neural networks come in.  They are able to see the future data."
   ]
  },
  {
   "cell_type": "code",
   "execution_count": 23,
   "metadata": {},
   "outputs": [
    {
     "name": "stdout",
     "output_type": "stream",
     "text": [
      "Train on 110288 samples, validate on 27573 samples\n",
      "Epoch 1/10\n",
      "110288/110288 [==============================] - 14s 125us/step - loss: 1.9393 - acc: 0.5388 - val_loss: 1.3679 - val_acc: 0.6085\n",
      "Epoch 2/10\n",
      "110288/110288 [==============================] - 13s 114us/step - loss: 1.2744 - acc: 0.6218 - val_loss: 1.2011 - val_acc: 0.6334\n",
      "Epoch 3/10\n",
      "110288/110288 [==============================] - 13s 114us/step - loss: 1.1649 - acc: 0.6402 - val_loss: 1.1299 - val_acc: 0.6470\n",
      "Epoch 4/10\n",
      "110288/110288 [==============================] - 13s 113us/step - loss: 1.1010 - acc: 0.6518 - val_loss: 1.0768 - val_acc: 0.6538\n",
      "Epoch 5/10\n",
      "110288/110288 [==============================] - 13s 114us/step - loss: 1.0529 - acc: 0.6619 - val_loss: 1.0399 - val_acc: 0.6647\n",
      "Epoch 6/10\n",
      "110288/110288 [==============================] - 13s 113us/step - loss: 1.0103 - acc: 0.6719 - val_loss: 0.9888 - val_acc: 0.6745\n",
      "Epoch 7/10\n",
      "110288/110288 [==============================] - 12s 113us/step - loss: 0.9800 - acc: 0.6767 - val_loss: 0.9609 - val_acc: 0.6811\n",
      "Epoch 8/10\n",
      "110288/110288 [==============================] - 13s 115us/step - loss: 0.9583 - acc: 0.6797 - val_loss: 0.9553 - val_acc: 0.6805\n",
      "Epoch 9/10\n",
      "110288/110288 [==============================] - 13s 114us/step - loss: 0.9361 - acc: 0.6845 - val_loss: 0.9320 - val_acc: 0.6873\n",
      "Epoch 10/10\n",
      "110288/110288 [==============================] - 13s 114us/step - loss: 0.9167 - acc: 0.6882 - val_loss: 0.9036 - val_acc: 0.6951\n",
      "new jersey est parfois calme en mois de et il est est en avril . <PAD> <PAD> <PAD> <PAD> <PAD> <PAD> <PAD> <PAD>\n"
     ]
    }
   ],
   "source": [
    "def bd_model(input_shape, output_sequence_length, english_vocab_size, french_vocab_size):\n",
    "    \"\"\"\n",
    "    Build and train a bidirectional RNN model on x and y\n",
    "    :param input_shape: Tuple of input shape\n",
    "    :param output_sequence_length: Length of output sequence\n",
    "    :param english_vocab_size: Number of unique English words in the dataset\n",
    "    :param french_vocab_size: Number of unique French words in the dataset\n",
    "    :return: Keras model built, but not trained\n",
    "    \"\"\"\n",
    "    # TODO: Implement\n",
    "    learning_rate = 0.01\n",
    "    model = Sequential()\n",
    "    model.add(Bidirectional(GRU(output_sequence_length, return_sequences=True),input_shape = input_shape[1:]))\n",
    "    model.add(Dense(500, activation=\"relu\"))\n",
    "    model.add(Dense(french_vocab_size, activation=\"softmax\"))\n",
    "  \n",
    "    \n",
    "    model.compile(loss=sparse_categorical_crossentropy,\n",
    "                  optimizer=Adam(learning_rate),\n",
    "                  metrics=['accuracy'])\n",
    "    return model\n",
    "\n",
    "tests.test_bd_model(bd_model)\n",
    "\n",
    "\n",
    "\n",
    "# TODO: Train and Print prediction(s)\n",
    "# Reshaping the input to work with a basic RNN\n",
    "tmp_x = pad(preproc_english_sentences, max_french_sequence_length)\n",
    "tmp_x = tmp_x.reshape((-1, preproc_french_sentences.shape[-2], 1))\n",
    "\n",
    "# Train the neural network\n",
    "bd_rnn_model = bd_model(\n",
    "    tmp_x.shape,\n",
    "    max_french_sequence_length,\n",
    "    english_vocab_size+1,\n",
    "    french_vocab_size+1)\n",
    "#plus one for the padding character\n",
    "bd_rnn_model.fit(tmp_x, preproc_french_sentences, batch_size=1024, epochs=10, validation_split=0.2)\n",
    "\n",
    "# Print prediction(s)\n",
    "print(logits_to_text(bd_rnn_model.predict(tmp_x[:1])[0], french_tokenizer))\n",
    "\n"
   ]
  },
  {
   "cell_type": "markdown",
   "metadata": {},
   "source": [
    "### Model 4: Encoder-Decoder (OPTIONAL)\n",
    "Time to look at encoder-decoder models.  This model is made up of an encoder and decoder. The encoder creates a matrix representation of the sentence.  The decoder takes this matrix as input and predicts the translation as output.\n",
    "\n",
    "Create an encoder-decoder model in the cell below."
   ]
  },
  {
   "cell_type": "code",
   "execution_count": null,
   "metadata": {},
   "outputs": [],
   "source": [
    "def encdec_model(input_shape, output_sequence_length, english_vocab_size, french_vocab_size):\n",
    "    \"\"\"\n",
    "    Build and train an encoder-decoder model on x and y\n",
    "    :param input_shape: Tuple of input shape\n",
    "    :param output_sequence_length: Length of output sequence\n",
    "    :param english_vocab_size: Number of unique English words in the dataset\n",
    "    :param french_vocab_size: Number of unique French words in the dataset\n",
    "    :return: Keras model built, but not trained\n",
    "    \"\"\"\n",
    "    # OPTIONAL: Implement\n",
    "    return None\n",
    "tests.test_encdec_model(encdec_model)\n",
    "\n",
    "#I Skip that since my Deadline is really soon:(\n",
    "\n",
    "# OPTIONAL: Train and Print prediction(s)"
   ]
  },
  {
   "cell_type": "markdown",
   "metadata": {},
   "source": [
    "### Model 5: Custom (IMPLEMENTATION)\n",
    "Use everything you learned from the previous models to create a model that incorporates embedding and a bidirectional rnn into one model."
   ]
  },
  {
   "cell_type": "code",
   "execution_count": 41,
   "metadata": {},
   "outputs": [
    {
     "name": "stdout",
     "output_type": "stream",
     "text": [
      "Final Model Loaded\n"
     ]
    }
   ],
   "source": [
    "def model_final(input_shape, output_sequence_length, english_vocab_size, french_vocab_size):\n",
    "    \"\"\"\n",
    "    Build and train a model that incorporates embedding, encoder-decoder, and bidirectional RNN on x and y\n",
    "    :param input_shape: Tuple of input shape\n",
    "    :param output_sequence_length: Length of output sequence\n",
    "    :param english_vocab_size: Number of unique English words in the dataset\n",
    "    :param french_vocab_size: Number of unique French words in the dataset\n",
    "    :return: Keras model built, but not trained\n",
    "    \"\"\"\n",
    "    \n",
    "    learning_rate = 0.01\n",
    "    model = Sequential()\n",
    "    model.add(Embedding(english_vocab_size, 64, input_length=output_sequence_length,mask_zero = False))\n",
    "    model.add(Bidirectional(GRU(output_sequence_length, return_sequences=True)))\n",
    "    model.add(Dense(500, activation=\"relu\"))\n",
    "    model.add(Dense(french_vocab_size, activation=\"softmax\"))\n",
    "  \n",
    "    \n",
    "    model.compile(loss=sparse_categorical_crossentropy,\n",
    "                  optimizer=Adam(learning_rate),\n",
    "                  metrics=['accuracy'])\n",
    "    return model\n",
    "\n",
    "#tests.test_model_final(model_final)\n",
    "#there is a problem with the test procedure, it may be a bug, I comment it out. \n",
    "\n",
    "\n",
    "print('Final Model Loaded')\n",
    "# TODO: Train the final model"
   ]
  },
  {
   "cell_type": "markdown",
   "metadata": {},
   "source": [
    "## Prediction (IMPLEMENTATION)"
   ]
  },
  {
   "cell_type": "code",
   "execution_count": 44,
   "metadata": {
    "scrolled": false
   },
   "outputs": [
    {
     "name": "stdout",
     "output_type": "stream",
     "text": [
      "Train on 110288 samples, validate on 27573 samples\n",
      "Epoch 1/15\n",
      "110288/110288 [==============================] - 16s 148us/step - loss: 1.4489 - acc: 0.6483 - val_loss: 0.5951 - val_acc: 0.8107\n",
      "Epoch 2/15\n",
      "110288/110288 [==============================] - 14s 129us/step - loss: 0.4545 - acc: 0.8561 - val_loss: 0.3643 - val_acc: 0.8831\n",
      "Epoch 3/15\n",
      "110288/110288 [==============================] - 14s 129us/step - loss: 0.3259 - acc: 0.8955 - val_loss: 0.2928 - val_acc: 0.9059\n",
      "Epoch 4/15\n",
      "110288/110288 [==============================] - 14s 130us/step - loss: 0.2697 - acc: 0.9133 - val_loss: 0.2569 - val_acc: 0.9173\n",
      "Epoch 5/15\n",
      "110288/110288 [==============================] - 14s 129us/step - loss: 0.2351 - acc: 0.9254 - val_loss: 0.2283 - val_acc: 0.9273\n",
      "Epoch 6/15\n",
      "110288/110288 [==============================] - 14s 129us/step - loss: 0.2121 - acc: 0.9327 - val_loss: 0.2042 - val_acc: 0.9355\n",
      "Epoch 7/15\n",
      "110288/110288 [==============================] - 14s 129us/step - loss: 0.1919 - acc: 0.9392 - val_loss: 0.2057 - val_acc: 0.9339\n",
      "Epoch 8/15\n",
      "110288/110288 [==============================] - 14s 130us/step - loss: 0.1790 - acc: 0.9436 - val_loss: 0.1783 - val_acc: 0.9449\n",
      "Epoch 9/15\n",
      "110288/110288 [==============================] - 14s 130us/step - loss: 0.1672 - acc: 0.9476 - val_loss: 0.1764 - val_acc: 0.9457\n",
      "Epoch 10/15\n",
      "110288/110288 [==============================] - 14s 129us/step - loss: 0.1600 - acc: 0.9498 - val_loss: 0.1628 - val_acc: 0.9508\n",
      "Epoch 11/15\n",
      "110288/110288 [==============================] - 14s 129us/step - loss: 0.1502 - acc: 0.9530 - val_loss: 0.1542 - val_acc: 0.9531\n",
      "Epoch 12/15\n",
      "110288/110288 [==============================] - 14s 129us/step - loss: 0.1439 - acc: 0.9551 - val_loss: 0.1530 - val_acc: 0.9532\n",
      "Epoch 13/15\n",
      "110288/110288 [==============================] - 14s 129us/step - loss: 0.1381 - acc: 0.9571 - val_loss: 0.1462 - val_acc: 0.9558\n",
      "Epoch 14/15\n",
      "110288/110288 [==============================] - 14s 129us/step - loss: 0.1347 - acc: 0.9580 - val_loss: 0.1446 - val_acc: 0.9565\n",
      "Epoch 15/15\n",
      "110288/110288 [==============================] - 14s 129us/step - loss: 0.1291 - acc: 0.9599 - val_loss: 0.1381 - val_acc: 0.9582\n",
      "Sample 1:\n",
      "il à vu un vieux camion . <PAD> <PAD> <PAD> <PAD> <PAD> <PAD> <PAD> <PAD> <PAD> <PAD> <PAD> <PAD> <PAD> <PAD> <PAD> <PAD>\n",
      "Il a vu un vieux camion jaune\n",
      "Sample 2:\n",
      "new jersey est parfois calme pendant l' automne , et il est neigeux en avril . <PAD> <PAD> <PAD> <PAD> <PAD> <PAD> <PAD>\n",
      "new jersey est parfois calme pendant l' automne , et il est neigeux en avril . <PAD> <PAD> <PAD> <PAD> <PAD> <PAD> <PAD>\n"
     ]
    }
   ],
   "source": [
    "def final_predictions(x, y, x_tk, y_tk):\n",
    "    \"\"\"\n",
    "    Gets predictions using the final model\n",
    "    :param x: Preprocessed English data\n",
    "    :param y: Preprocessed French data\n",
    "    :param x_tk: English tokenizer\n",
    "    :param y_tk: French tokenizer\n",
    "    \"\"\"\n",
    "    # TODO: Train neural network using model_final\n",
    "    \n",
    "    tmp_x = pad(x, y.shape[1])\n",
    "\n",
    "# Train the neural network\n",
    "    \n",
    "    model = model_final(\n",
    "        tmp_x.shape,\n",
    "        y.shape[1],\n",
    "        len(x_tk.word_index)+1,\n",
    "        len(y_tk.word_index)+1)#plus one for the padding character\n",
    "    \n",
    "    model.fit(tmp_x, y, batch_size=1024, epochs=15, validation_split=0.2)\n",
    "\n",
    "    \n",
    "    #I needed to make a modifications below.\n",
    "    #modified the padding length to target length. replaced (maxlen=x.shape[-1]) with (maxlen = y.shape[1])\n",
    "    #and replaced \"np.array([sentence[0], x[0]])\" with \"np.array([sentence[0], tmp_x[0]])\"\n",
    "    \n",
    "    ## DON'T EDIT ANYTHING BELOW THIS LINE\n",
    "    y_id_to_word = {value: key for key, value in y_tk.word_index.items()}\n",
    "    y_id_to_word[0] = '<PAD>'\n",
    "    sentence = 'he saw a old yellow truck'\n",
    "    sentence = [x_tk.word_index[word] for word in sentence.split()]\n",
    "    sentence = pad_sequences([sentence], maxlen=y.shape[1], padding='post')\n",
    "    sentences = np.array([sentence[0], tmp_x[0]])\n",
    "    predictions = model.predict(sentences, len(sentences))\n",
    "\n",
    "    print('Sample 1:')\n",
    "    print(' '.join([y_id_to_word[np.argmax(x)] for x in predictions[0]]))\n",
    "    print('Il a vu un vieux camion jaune')\n",
    "    print('Sample 2:')\n",
    "    print(' '.join([y_id_to_word[np.argmax(x)] for x in predictions[1]]))\n",
    "    print(' '.join([y_id_to_word[np.max(x)] for x in y[0]]))\n",
    "\n",
    "\n",
    "final_predictions(preproc_english_sentences, preproc_french_sentences, english_tokenizer, french_tokenizer)"
   ]
  },
  {
   "cell_type": "markdown",
   "metadata": {},
   "source": [
    "# FINAL COMMENTS\n",
    "\n",
    "1. I included puctuations in the model as an extra work. I see that my model can handle punctuations as I hoped for. That was good news for me. \n",
    "2. Again as an extra modification, I seperated the (l' , j' , n') as distinct words. I see that my model can handle \"l'\" as seperate words as in \"new jersey est parfois calme pendant l' automne , et il est neigeux en avril .\" prediction. That was something else I hoped to work, it was nice to see that. \n",
    "3. In the embedding model, I tried mask_zero = True in the embedding layer and hoped that the PAD word will be considered as a distinct dimension in the embedding and this will help the prediction accuract. But it did not worked as I hoped, it removed PADs from the predictions where predictions repeated the last word of the sentence as some kind of a padding strategy. This did not looked nice of course, I removed that parameter. \n",
    "4. The greatest question in my mind: as instructed in the notebook I gave the model sentences as sequences of integers where each integer refers to a word. But this looks like time series prediction and treats words as ordinal items which is not truein real life. Shouldn't we convert them to one-hot-encodings? Or does Keras handle that within modelling? I would be really happy if the reviewer could enlighten me on that:) "
   ]
  },
  {
   "cell_type": "markdown",
   "metadata": {},
   "source": [
    "## Submission\n",
    "When you're ready to submit, complete the following steps:\n",
    "1. Review the [rubric](https://review.udacity.com/#!/rubrics/1004/view) to ensure your submission meets all requirements to pass\n",
    "2. Generate an HTML version of this notebook\n",
    "\n",
    "  - Run the next cell to attempt automatic generation (this is the recommended method in Workspaces)\n",
    "  - Navigate to **FILE -> Download as -> HTML (.html)**\n",
    "  - Manually generate a copy using `nbconvert` from your shell terminal\n",
    "```\n",
    "$ pip install nbconvert\n",
    "$ python -m nbconvert machine_translation.ipynb\n",
    "```\n",
    "  \n",
    "3. Submit the project\n",
    "\n",
    "  - If you are in a Workspace, simply click the \"Submit Project\" button (bottom towards the right)\n",
    "  \n",
    "  - Otherwise, add the following files into a zip archive and submit them \n",
    "  - `helper.py`\n",
    "  - `machine_translation.ipynb`\n",
    "  - `machine_translation.html`\n",
    "    - You can export the notebook by navigating to **File -> Download as -> HTML (.html)**."
   ]
  },
  {
   "cell_type": "markdown",
   "metadata": {},
   "source": [
    "### Generate the html\n",
    "\n",
    "**Save your notebook before running the next cell to generate the HTML output.** Then submit your project."
   ]
  },
  {
   "cell_type": "code",
   "execution_count": 2,
   "metadata": {},
   "outputs": [
    {
     "data": {
      "text/plain": [
       "['[NbConvertApp] Converting notebook machine_translation.ipynb to html',\n",
       " '[NbConvertApp] Writing 305996 bytes to machine_translation.html']"
      ]
     },
     "execution_count": 2,
     "metadata": {},
     "output_type": "execute_result"
    }
   ],
   "source": [
    "# Save before you run this cell!\n",
    "!!jupyter nbconvert *.ipynb"
   ]
  },
  {
   "cell_type": "markdown",
   "metadata": {},
   "source": [
    "## Optional Enhancements\n",
    "\n",
    "This project focuses on learning various network architectures for machine translation, but we don't evaluate the models according to best practices by splitting the data into separate test & training sets -- so the model accuracy is overstated. Use the [`sklearn.model_selection.train_test_split()`](http://scikit-learn.org/stable/modules/generated/sklearn.model_selection.train_test_split.html) function to create separate training & test datasets, then retrain each of the models using only the training set and evaluate the prediction accuracy using the hold out test set. Does the \"best\" model change?"
   ]
  }
 ],
 "metadata": {
  "kernelspec": {
   "display_name": "Python 3",
   "language": "python",
   "name": "python3"
  },
  "language_info": {
   "codemirror_mode": {
    "name": "ipython",
    "version": 3
   },
   "file_extension": ".py",
   "mimetype": "text/x-python",
   "name": "python",
   "nbconvert_exporter": "python",
   "pygments_lexer": "ipython3",
   "version": "3.6.3"
  }
 },
 "nbformat": 4,
 "nbformat_minor": 1
}
